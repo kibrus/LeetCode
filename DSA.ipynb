{
  "nbformat": 4,
  "nbformat_minor": 0,
  "metadata": {
    "colab": {
      "provenance": [],
      "authorship_tag": "ABX9TyMKZtj4hMeewzE8ChmG4vlK",
      "include_colab_link": true
    },
    "kernelspec": {
      "name": "python3",
      "display_name": "Python 3"
    },
    "language_info": {
      "name": "python"
    }
  },
  "cells": [
    {
      "cell_type": "markdown",
      "metadata": {
        "id": "view-in-github",
        "colab_type": "text"
      },
      "source": [
        "<a href=\"https://colab.research.google.com/github/kibrus/LeetCode/blob/main/DSA.ipynb\" target=\"_parent\"><img src=\"https://colab.research.google.com/assets/colab-badge.svg\" alt=\"Open In Colab\"/></a>"
      ]
    },
    {
      "cell_type": "code",
      "execution_count": 6,
      "metadata": {
        "colab": {
          "base_uri": "https://localhost:8080/"
        },
        "id": "FYJZ9CmXG9Yo",
        "outputId": "426263dc-07fd-4542-fa5f-c9c47705b830"
      },
      "outputs": [
        {
          "output_type": "stream",
          "name": "stdout",
          "text": [
            "How many day's temperature? : 4\n",
            "Enter Day 1 temp: 20\n",
            "Enter Day 2 temp: 21\n",
            "Enter Day 3 temp: 50\n",
            "Enter Day 4 temp: 60\n",
            "\n",
            "Average = 37.75\n",
            "2 day(s) above the average\n"
          ]
        }
      ],
      "source": [
        "#calculate Average Temperature\n",
        "days = int(input(\"How many day's temperature? : \"))\n",
        "total = 0\n",
        "temps = []\n",
        "for i in range(days):\n",
        "  temp = int(input(\"Enter Day \"+str(i+1)+\" temp: \"))\n",
        "  temps.append(temp)\n",
        "  total += temps[i]\n",
        "\n",
        "\n",
        "avg = round(total/days,2)\n",
        "print(\"\\nAverage = \" + str(avg))\n",
        "\n",
        "count = 0\n",
        "for temp in temps:\n",
        "  if avg < temp:\n",
        "    count += 1\n",
        "print(str(count) + \" day(s) above the average\")"
      ]
    },
    {
      "cell_type": "code",
      "source": [
        "#function to find the missing number\n",
        "def missing_number(lists, n):\n",
        "    total = n*(n+1)/2\n",
        "\n",
        "    total_lists = sum(lists)\n",
        "\n",
        "    missing_number = total-total_lists\n",
        "\n",
        "    return missing_number\n",
        "\n",
        "\n",
        "missing_number([1, 2, 3, 4, 6,7,9,8,10], 10)"
      ],
      "metadata": {
        "colab": {
          "base_uri": "https://localhost:8080/"
        },
        "id": "HP3jIV1ZKy2A",
        "outputId": "09459fd7-ac3f-4a1b-b607-fe6b0fd07f44"
      },
      "execution_count": 43,
      "outputs": [
        {
          "output_type": "execute_result",
          "data": {
            "text/plain": [
              "5.0"
            ]
          },
          "metadata": {},
          "execution_count": 43
        }
      ]
    },
    {
      "cell_type": "code",
      "source": [
        "#two sum\n",
        "# time and space O(n)\n",
        "from typing import List\n",
        "\n",
        "class solution:\n",
        "  def twosum(self, nums: List[int], target: int) -> List[int]:\n",
        "    prevMap = {} #val: index\n",
        "\n",
        "    for i, n in enumerate(nums):\n",
        "      diff = target - n\n",
        "      if diff in prevMap:\n",
        "        return[prevMap[diff], i]\n",
        "      prevMap[n] = i\n",
        "    return\n",
        "\n",
        "sol = solution()\n",
        "sol.twosum([2,1,5,3],4)\n"
      ],
      "metadata": {
        "colab": {
          "base_uri": "https://localhost:8080/"
        },
        "id": "9HCqTxlIUR35",
        "outputId": "5555aa28-c48c-43a2-fee0-87734aabffd9"
      },
      "execution_count": 59,
      "outputs": [
        {
          "output_type": "execute_result",
          "data": {
            "text/plain": [
              "[[0, 3], [1, 4]]"
            ]
          },
          "metadata": {},
          "execution_count": 59
        }
      ]
    },
    {
      "cell_type": "code",
      "source": [
        "#two sum\n",
        "# time-O(n) space -> O(n*2)\n",
        "from typing import List\n",
        "\n",
        "class solution:\n",
        "  def twosum(self, nums: List[int], target: int) -> List[int]:\n",
        "    prevMap = {} #val: index\n",
        "    pairs = []\n",
        "\n",
        "    for i, n in enumerate(nums):\n",
        "      diff = target - n\n",
        "      if diff in prevMap:\n",
        "        pairs.append([prevMap[diff], i])\n",
        "      prevMap[n] = i\n",
        "    return pairs\n",
        "\n",
        "sol = solution()\n",
        "sol.twosum([2,1,5,2,3],4)\n"
      ],
      "metadata": {
        "id": "6hTRbZF5kT15"
      },
      "execution_count": null,
      "outputs": []
    },
    {
      "cell_type": "code",
      "source": [
        "#two sum\n",
        "# time-O(n*2) space -> O(1)\n",
        "def findPairs(nums, target):\n",
        "  for i in range(len(nums)):\n",
        "    for j in range(i+1, len(nums)):\n",
        "      if nums[i]+nums[j] == target:\n",
        "        print(i, j)\n",
        "findPairs([2,1,5,2,3],4)"
      ],
      "metadata": {
        "colab": {
          "base_uri": "https://localhost:8080/"
        },
        "id": "vfqA4uVyiE3w",
        "outputId": "b6f09889-f98d-43ec-ed2e-c7641cdef80c"
      },
      "execution_count": 54,
      "outputs": [
        {
          "output_type": "stream",
          "name": "stdout",
          "text": [
            "0 3\n",
            "1 4\n"
          ]
        }
      ]
    }
  ]
}